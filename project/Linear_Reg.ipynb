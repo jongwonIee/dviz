{
 "cells": [
  {
   "cell_type": "code",
   "execution_count": 53,
   "metadata": {},
   "outputs": [],
   "source": [
    "from sklearn import linear_model\n",
    "import pandas as pd\n",
    "import numpy as np"
   ]
  },
  {
   "cell_type": "code",
   "execution_count": 6,
   "metadata": {},
   "outputs": [
    {
     "data": {
      "application/vnd.jupyter.widget-view+json": {
       "model_id": "365d6e2ce88741568f9db8b05cffefc9"
      },
      "text/html": [
       "<div>\n",
       "<style scoped>\n",
       "    .dataframe tbody tr th:only-of-type {\n",
       "        vertical-align: middle;\n",
       "    }\n",
       "\n",
       "    .dataframe tbody tr th {\n",
       "        vertical-align: top;\n",
       "    }\n",
       "\n",
       "    .dataframe thead th {\n",
       "        text-align: right;\n",
       "    }\n",
       "</style>\n",
       "<table border=\"1\" class=\"dataframe\">\n",
       "  <thead>\n",
       "    <tr style=\"text-align: right;\">\n",
       "      <th></th>\n",
       "      <th>id</th>\n",
       "      <th>code</th>\n",
       "      <th>title_en</th>\n",
       "      <th>title_ko</th>\n",
       "      <th>released_on</th>\n",
       "      <th>country</th>\n",
       "      <th>fscreen</th>\n",
       "      <th>preview</th>\n",
       "      <th>ani</th>\n",
       "      <th>naver</th>\n",
       "      <th>youtube</th>\n",
       "      <th>fweek</th>\n",
       "      <th>expectation</th>\n",
       "      <th>percent_error</th>\n",
       "      <th>URL</th>\n",
       "      <th>created_at</th>\n",
       "      <th>updated_at</th>\n",
       "    </tr>\n",
       "  </thead>\n",
       "  <tbody>\n",
       "    <tr>\n",
       "      <td>0</td>\n",
       "      <td>13</td>\n",
       "      <td>20149629</td>\n",
       "      <td>Begin Again</td>\n",
       "      <td>비긴 어게인</td>\n",
       "      <td>2014-08-13</td>\n",
       "      <td>미국</td>\n",
       "      <td>185</td>\n",
       "      <td>9215</td>\n",
       "      <td>0</td>\n",
       "      <td>1276</td>\n",
       "      <td>94057</td>\n",
       "      <td>133628</td>\n",
       "      <td>131589.732086</td>\n",
       "      <td>1.525330</td>\n",
       "      <td>http://movie.naver.com/movie/bi/mi/photoViewPo...</td>\n",
       "      <td>2016-12-21 16:05:32 UTC</td>\n",
       "      <td>2016-12-21 16:05:32 UTC</td>\n",
       "    </tr>\n",
       "    <tr>\n",
       "      <td>1</td>\n",
       "      <td>154</td>\n",
       "      <td>20150020</td>\n",
       "      <td>Son of Saul</td>\n",
       "      <td>사울의 아들</td>\n",
       "      <td>2016-02-25</td>\n",
       "      <td>헝가리</td>\n",
       "      <td>47</td>\n",
       "      <td>3007</td>\n",
       "      <td>0</td>\n",
       "      <td>381</td>\n",
       "      <td>6111</td>\n",
       "      <td>11292</td>\n",
       "      <td>11492.875583</td>\n",
       "      <td>1.778919</td>\n",
       "      <td>http://movie.naver.com/movie/bi/mi/photoViewPo...</td>\n",
       "      <td>2016-12-21 16:05:33 UTC</td>\n",
       "      <td>2016-12-21 16:05:33 UTC</td>\n",
       "    </tr>\n",
       "    <tr>\n",
       "      <td>2</td>\n",
       "      <td>107</td>\n",
       "      <td>20147684</td>\n",
       "      <td>Night Train to Lisbon</td>\n",
       "      <td>리스본행 야간열차</td>\n",
       "      <td>2014-06-05</td>\n",
       "      <td>독일</td>\n",
       "      <td>52</td>\n",
       "      <td>4584</td>\n",
       "      <td>0</td>\n",
       "      <td>431</td>\n",
       "      <td>3097</td>\n",
       "      <td>19679</td>\n",
       "      <td>19301.931170</td>\n",
       "      <td>1.916098</td>\n",
       "      <td>http://movie.naver.com/movie/bi/mi/photoViewPo...</td>\n",
       "      <td>2016-12-21 16:05:33 UTC</td>\n",
       "      <td>2016-12-21 16:05:33 UTC</td>\n",
       "    </tr>\n",
       "    <tr>\n",
       "      <td>...</td>\n",
       "      <td>...</td>\n",
       "      <td>...</td>\n",
       "      <td>...</td>\n",
       "      <td>...</td>\n",
       "      <td>...</td>\n",
       "      <td>...</td>\n",
       "      <td>...</td>\n",
       "      <td>...</td>\n",
       "      <td>...</td>\n",
       "      <td>...</td>\n",
       "      <td>...</td>\n",
       "      <td>...</td>\n",
       "      <td>...</td>\n",
       "      <td>...</td>\n",
       "      <td>...</td>\n",
       "      <td>...</td>\n",
       "      <td>...</td>\n",
       "    </tr>\n",
       "    <tr>\n",
       "      <td>296</td>\n",
       "      <td>294</td>\n",
       "      <td>20154484</td>\n",
       "      <td>Our Last Tango</td>\n",
       "      <td>라스트 탱고</td>\n",
       "      <td>2015-12-31</td>\n",
       "      <td>독일</td>\n",
       "      <td>19</td>\n",
       "      <td>775</td>\n",
       "      <td>0</td>\n",
       "      <td>153</td>\n",
       "      <td>239</td>\n",
       "      <td>3222</td>\n",
       "      <td>-11700.949061</td>\n",
       "      <td>463.157947</td>\n",
       "      <td>http://movie.naver.com/movie/bi/mi/photoViewPo...</td>\n",
       "      <td>2016-12-21 16:05:33 UTC</td>\n",
       "      <td>2016-12-21 16:05:33 UTC</td>\n",
       "    </tr>\n",
       "    <tr>\n",
       "      <td>297</td>\n",
       "      <td>270</td>\n",
       "      <td>20144881</td>\n",
       "      <td>Journey to the West: Conquering the Demons</td>\n",
       "      <td>서유기 : 모험의 시작</td>\n",
       "      <td>2015-02-05</td>\n",
       "      <td>중국</td>\n",
       "      <td>68</td>\n",
       "      <td>1575</td>\n",
       "      <td>0</td>\n",
       "      <td>1436</td>\n",
       "      <td>12113</td>\n",
       "      <td>4103</td>\n",
       "      <td>23200.083796</td>\n",
       "      <td>465.441964</td>\n",
       "      <td>http://movie.naver.com/movie/bi/mi/photoViewPo...</td>\n",
       "      <td>2016-12-21 16:05:33 UTC</td>\n",
       "      <td>2016-12-21 16:05:33 UTC</td>\n",
       "    </tr>\n",
       "    <tr>\n",
       "      <td>298</td>\n",
       "      <td>279</td>\n",
       "      <td>20140426</td>\n",
       "      <td>Vijay and I</td>\n",
       "      <td>나의 첫번째 장례식</td>\n",
       "      <td>2014-09-11</td>\n",
       "      <td>벨기에</td>\n",
       "      <td>17</td>\n",
       "      <td>126</td>\n",
       "      <td>0</td>\n",
       "      <td>173</td>\n",
       "      <td>365</td>\n",
       "      <td>3754</td>\n",
       "      <td>-15098.152911</td>\n",
       "      <td>502.188410</td>\n",
       "      <td>http://movie.naver.com/movie/bi/mi/photoViewPo...</td>\n",
       "      <td>2016-12-21 16:05:33 UTC</td>\n",
       "      <td>2016-12-21 16:05:33 UTC</td>\n",
       "    </tr>\n",
       "  </tbody>\n",
       "</table>\n",
       "<p>299 rows × 17 columns</p>\n",
       "</div>"
      ],
      "text/plain": [
       "      id      code                                    title_en      title_ko  \\\n",
       "0     13  20149629                                 Begin Again        비긴 어게인   \n",
       "1    154  20150020                                 Son of Saul        사울의 아들   \n",
       "2    107  20147684                       Night Train to Lisbon     리스본행 야간열차   \n",
       "..   ...       ...                                         ...           ...   \n",
       "296  294  20154484                              Our Last Tango        라스트 탱고   \n",
       "297  270  20144881  Journey to the West: Conquering the Demons  서유기 : 모험의 시작   \n",
       "298  279  20140426                                 Vijay and I    나의 첫번째 장례식   \n",
       "\n",
       "    released_on country  fscreen  preview  ani  naver  youtube   fweek  \\\n",
       "0    2014-08-13      미국      185     9215    0   1276    94057  133628   \n",
       "1    2016-02-25     헝가리       47     3007    0    381     6111   11292   \n",
       "2    2014-06-05      독일       52     4584    0    431     3097   19679   \n",
       "..          ...     ...      ...      ...  ...    ...      ...     ...   \n",
       "296  2015-12-31      독일       19      775    0    153      239    3222   \n",
       "297  2015-02-05      중국       68     1575    0   1436    12113    4103   \n",
       "298  2014-09-11     벨기에       17      126    0    173      365    3754   \n",
       "\n",
       "       expectation  percent_error  \\\n",
       "0    131589.732086       1.525330   \n",
       "1     11492.875583       1.778919   \n",
       "2     19301.931170       1.916098   \n",
       "..             ...            ...   \n",
       "296  -11700.949061     463.157947   \n",
       "297   23200.083796     465.441964   \n",
       "298  -15098.152911     502.188410   \n",
       "\n",
       "                                                   URL  \\\n",
       "0    http://movie.naver.com/movie/bi/mi/photoViewPo...   \n",
       "1    http://movie.naver.com/movie/bi/mi/photoViewPo...   \n",
       "2    http://movie.naver.com/movie/bi/mi/photoViewPo...   \n",
       "..                                                 ...   \n",
       "296  http://movie.naver.com/movie/bi/mi/photoViewPo...   \n",
       "297  http://movie.naver.com/movie/bi/mi/photoViewPo...   \n",
       "298  http://movie.naver.com/movie/bi/mi/photoViewPo...   \n",
       "\n",
       "                  created_at               updated_at  \n",
       "0    2016-12-21 16:05:32 UTC  2016-12-21 16:05:32 UTC  \n",
       "1    2016-12-21 16:05:33 UTC  2016-12-21 16:05:33 UTC  \n",
       "2    2016-12-21 16:05:33 UTC  2016-12-21 16:05:33 UTC  \n",
       "..                       ...                      ...  \n",
       "296  2016-12-21 16:05:33 UTC  2016-12-21 16:05:33 UTC  \n",
       "297  2016-12-21 16:05:33 UTC  2016-12-21 16:05:33 UTC  \n",
       "298  2016-12-21 16:05:33 UTC  2016-12-21 16:05:33 UTC  \n",
       "\n",
       "[299 rows x 17 columns]"
      ]
     },
     "metadata": {},
     "output_type": "display_data"
    }
   ],
   "source": [
    "df = pd.read_csv(\"movie_list.csv\")\n",
    "df"
   ]
  },
  {
   "cell_type": "code",
   "execution_count": 10,
   "metadata": {},
   "outputs": [
    {
     "data": {
      "text/plain": [
       "LinearRegression(copy_X=True, fit_intercept=True, n_jobs=None, normalize=False)"
      ]
     },
     "execution_count": 10,
     "metadata": {},
     "output_type": "execute_result"
    }
   ],
   "source": [
    "reg = linear_model.LinearRegression()\n",
    "reg.fit(df[['fscreen' ,'preview']],df['fweek'])"
   ]
  },
  {
   "cell_type": "code",
   "execution_count": 11,
   "metadata": {},
   "outputs": [
    {
     "data": {
      "text/plain": [
       "(array([296.91199892,   6.30422077]), -15831.263543150588)"
      ]
     },
     "execution_count": 11,
     "metadata": {},
     "output_type": "execute_result"
    }
   ],
   "source": [
    "reg.coef_, reg.intercept_"
   ]
  },
  {
   "cell_type": "code",
   "execution_count": 12,
   "metadata": {},
   "outputs": [
    {
     "data": {
      "text/plain": [
       "array([97190.85069724])"
      ]
     },
     "execution_count": 12,
     "metadata": {},
     "output_type": "execute_result"
    }
   ],
   "source": [
    "reg.predict([[185,9215]])"
   ]
  },
  {
   "cell_type": "code",
   "execution_count": 8,
   "metadata": {},
   "outputs": [
    {
     "data": {
      "text/plain": [
       "Intercept    1.633842\n",
       "Price       -0.006379\n",
       "AdSpends     0.003161\n",
       "dtype: float64"
      ]
     },
     "execution_count": 8,
     "metadata": {},
     "output_type": "execute_result"
    }
   ],
   "source": [
    "# -*- coding: utf-8 -*-\n",
    "\"\"\"\n",
    "Created on Tue Jun 18 12:38:44 2019\n",
    "@author: krish.naik\n",
    "\"\"\"\n",
    "\n",
    "## Visualization for Multiple Linear Regression\n",
    "\n",
    "import numpy as np\n",
    "\n",
    "X= [[150,100],[159,200],[170,350],[175,400],[179,500],[180,180],[189,159],[199,110],[199,400],[199,230],[235,120],[239,340],[239,360],[249,145],[249,400]]\n",
    "Y= [0.73,1.39,2.03,1.45,1.82,1.32,0.83,0.53,1.95,1.27,0.49,1.03,1.24,0.55,1.3]\n",
    "\n",
    "\n",
    "## Prepare the Dataset\n",
    "\n",
    "import pandas as pd\n",
    "df2=pd.DataFrame(X,columns=['Price','AdSpends'])\n",
    "df2['Sales']=pd.Series(Y)\n",
    "df2\n",
    "\n",
    "\n",
    "## Apply multiple Linear Regression\n",
    "import matplotlib.pyplot as plt\n",
    "from mpl_toolkits.mplot3d import Axes3D\n",
    "import statsmodels.formula.api as smf\n",
    "model = smf.ols(formula='Sales ~ Price + AdSpends', data=df2)\n",
    "results_formula = model.fit()\n",
    "results_formula.params"
   ]
  },
  {
   "cell_type": "code",
   "execution_count": 9,
   "metadata": {},
   "outputs": [
    {
     "data": {
      "image/png": "[encoded data removed]",
      "text/plain": [
       "<Figure size 432x288 with 1 Axes>"
      ]
     },
     "metadata": {
      "needs_background": "light"
     },
     "output_type": "display_data"
    }
   ],
   "source": [
    "## Prepare the data for Visualization\n",
    "\n",
    "x_surf, y_surf = np.meshgrid(np.linspace(df2.Price.min(), df2.Price.max(), 100),np.linspace(df2.AdSpends.min(), df2.AdSpends.max(), 100))\n",
    "onlyX = pd.DataFrame({'Price': x_surf.ravel(), 'AdSpends': y_surf.ravel()})\n",
    "fittedY=results_formula.predict(exog=onlyX)\n",
    "\n",
    "\n",
    "\n",
    "## convert the predicted result in an array\n",
    "fittedY=np.array(fittedY)\n",
    "\n",
    "\n",
    "\n",
    "\n",
    "# Visualize the Data for Multiple Linear Regression\n",
    "\n",
    "fig = plt.figure()\n",
    "ax = fig.add_subplot(111, projection='3d')\n",
    "ax.scatter(df2['Price'],df2['AdSpends'],df2['Sales'],c='red', marker='o', alpha=0.5)\n",
    "ax.plot_surface(x_surf,y_surf,fittedY.reshape(x_surf.shape), color='b', alpha=0.3)\n",
    "ax.set_xlabel('Price')\n",
    "ax.set_ylabel('AdSpends')\n",
    "ax.set_zlabel('Sales')\n",
    "plt.show()"
   ]
  },
  {
   "cell_type": "code",
   "execution_count": 11,
   "metadata": {},
   "outputs": [],
   "source": [
    "#%matplotlib inline\n",
    "%matplotlib qt5"
   ]
  },
  {
   "cell_type": "code",
   "execution_count": 2,
   "metadata": {},
   "outputs": [],
   "source": [
    "import edaviz as eda\n"
   ]
  },
  {
   "cell_type": "code",
   "execution_count": 13,
   "metadata": {},
   "outputs": [],
   "source": [
    "import numpy as np\n",
    "import pandas as pd\n",
    "import matplotlib.pyplot as plt"
   ]
  },
  {
   "cell_type": "code",
   "execution_count": 34,
   "metadata": {},
   "outputs": [],
   "source": [
    "dataset = pd.read_csv('salary_data.csv')\n",
    "x = dataset.iloc[:, :-1].values\n",
    "y = dataset.iloc[:, 1].values"
   ]
  },
  {
   "cell_type": "code",
   "execution_count": 55,
   "metadata": {},
   "outputs": [],
   "source": [
    "df = pd.read_csv(\"movie_list.csv\")\n",
    "x = np.asarray(df[\"preview\"])\n",
    "y = np.asarray(df[\"expectation\"])"
   ]
  },
  {
   "cell_type": "code",
   "execution_count": 73,
   "metadata": {
    "scrolled": true
   },
   "outputs": [
    {
     "data": {
      "text/plain": [
       "(array([ 9215,  3007,  4584,  1390,   415,   844,  4440,  2152,   264,\n",
       "         3546,   444,   784,   438,  1238,   432,  2296,  1244,  4836,\n",
       "         2053,  3471,   135,   417,   488,  2245,   608,  8093,  1693,\n",
       "          842,  1401,  1622,  2114,   135,   996,  1066,   186,  2443,\n",
       "          143,  1119,  2120,   359,  1961,  2546,  1326,  1335,  1128,\n",
       "        32040,   820,  7225,  1434, 11405,   729,  3208,  1084,   817,\n",
       "         1357,  2386,   200,   948,  3371,  2173,  6061,  4837,   924,\n",
       "         2999,   126,   899,   724,  3017,  1219,   833,  1006,  2281,\n",
       "          402, 10458,   708,  1806,   332,  3001,  4151,  1165,   592,\n",
       "          166,  1705,   109,  1440,   313,  1202,  1090,   259,  1111,\n",
       "         2963,   517,  1141,  2149,  2113,  5795,  3157,  1223,   214,\n",
       "         3518,  5579,   895,   811,  4342,   534,   609,  2761,  1277,\n",
       "         4697,   717,  6318,  1190,  1103,   926,  2358,   516,  1246,\n",
       "         1963,  1554,   999,  9987,  2298,   700,  4659,  2159,  1545,\n",
       "         3919,  3826,   452,  1373,  1469,   496,  1555,  1362,  5619,\n",
       "          807,  2189,  4102,  2704,  1208,   636,  1302,  1091,  1529,\n",
       "         2156,  3717,  1252,   900,  1445,  2201,   532,   875,  2137,\n",
       "          877,  8041,   277,  3147,  1934,  1383,   709,   508,  2767,\n",
       "          674,  4160,  4796,  1965,  1686,  2367,  1678,   605,   438,\n",
       "          432,  1176,  1925,  1089,  1790,  2231,   516,  3161,  1123,\n",
       "          395,  1230,  1477,  1615,   560,   180,  5316,  9790,  1848,\n",
       "           14,  1601,   796,  1770,   493,  1076,  1579,   964,  5701,\n",
       "          419,  1635,  4138,   798,   414,  1232,   927,  1329,   195,\n",
       "         2926,   761,  2067,   590,   154,  2399,  2200,  2264,   533,\n",
       "         1321,   151,  1017,  1586,   836,  1071,   558,  2943,   655,\n",
       "         1195,  6307,   837,  1402,  1246,   689,   401,   766,   728,\n",
       "          957,   923,   577,  3317,  2512,   919,   836,  1061,   702,\n",
       "          839,  1056,   916,  7050,  1044,   483,  1330,   531,   437,\n",
       "          651,   984,   644,  1014,   123,   598,  1122,  1108,   266,\n",
       "          689,   151,   520,   959,  1581,  1051,  1850,  2422,  2389,\n",
       "          443,  3157,   560,   751,  1087,  4385,   154,   427,   832,\n",
       "          671,   870,  1766,  9061,   477,  1059,    32,  4084,   326,\n",
       "         1091,   665,   576,   599,  4262,   489,   679,   328,   775,\n",
       "         1575,   126]),\n",
       " array([ 1.31589732e+05,  1.14928756e+04,  1.93019312e+04,  6.60080482e+04,\n",
       "         4.93513405e+03,  1.88106590e+04,  6.13650861e+04,  2.33218135e+04,\n",
       "         3.88093497e+04,  9.11987076e+04,  1.16870149e+04,  5.67459914e+03,\n",
       "         2.46018985e+04,  1.04787224e+04,  8.24671603e+03,  4.61843915e+04,\n",
       "         2.33481041e+04,  7.27408233e+04,  6.87794360e+04,  3.07097810e+04,\n",
       "         7.63450078e+03,  3.39442012e+04,  8.40395522e+04,  9.68307680e+04,\n",
       "         2.19909403e+04,  1.48309586e+05,  3.49339974e+04,  3.24133742e+04,\n",
       "         2.09134096e+04,  3.31558783e+04,  9.11517097e+03,  1.23517015e+04,\n",
       "         1.65153703e+04,  5.49529321e+03,  1.87282922e+04,  7.28187011e+04,\n",
       "         2.36414864e+04,  9.12663745e+03,  7.73644459e+04,  4.30990647e+04,\n",
       "         3.74968732e+04,  5.08506176e+04,  8.33951153e+04,  3.09162386e+04,\n",
       "         5.34063648e+03,  3.15174568e+05,  1.62685560e+04,  8.23063180e+04,\n",
       "         5.35912463e+03,  1.86236825e+05,  2.17786947e+04,  1.09606629e+05,\n",
       "         6.31363351e+04,  3.58812152e+04,  2.50576250e+04,  2.15490723e+04,\n",
       "         4.25775632e+03,  5.74071245e+04,  4.43955542e+04,  1.13145671e+04,\n",
       "         6.46765157e+04,  6.61272845e+04,  4.29065853e+03,  1.00074074e+04,\n",
       "         9.85884934e+03,  2.74201237e+04,  1.36666360e+04,  3.83124057e+04,\n",
       "         3.55252955e+04,  5.93756310e+04,  2.31786448e+04,  1.87927108e+04,\n",
       "         1.55178840e+04,  1.10472357e+05,  2.58122482e+04,  5.25342963e+03,\n",
       "         8.64281937e+03,  9.93974490e+04,  3.02421239e+04,  4.19879565e+04,\n",
       "         1.03136941e+04,  5.09482010e+03,  5.30796976e+04,  3.33747443e+04,\n",
       "         4.08969476e+04,  2.36022261e+03,  1.37794645e+04,  1.45925492e+04,\n",
       "         5.22561079e+04,  5.77620169e+04,  8.50631206e+04,  2.55278799e+04,\n",
       "         8.38773011e+04,  5.29244765e+04,  1.93304033e+04,  6.84987239e+04,\n",
       "         2.26776537e+04,  8.64440308e+04,  4.28954031e+04,  2.85846658e+04,\n",
       "         1.98281966e+05,  1.07301203e+04,  6.44712201e+03,  6.35792469e+04,\n",
       "         6.34796779e+03,  3.10105633e+03,  1.23365138e+04,  3.60326391e+03,\n",
       "         4.84642288e+04,  4.74431550e+03,  1.04173324e+05,  2.25852550e+04,\n",
       "         9.28990108e+03,  3.99618791e+04,  6.22554347e+04,  2.09468299e+04,\n",
       "         1.88430147e+03,  7.48655102e+04,  2.67813074e+04,  8.62397267e+03,\n",
       "         1.10390050e+05,  4.08196531e+03,  2.89397609e+04,  1.30957485e+05,\n",
       "         1.61748013e+04,  4.79813723e+04,  5.93904914e+04,  7.38285191e+04,\n",
       "         1.62909622e+03,  4.43705079e+03,  5.60808682e+04,  2.14074028e+04,\n",
       "         1.18115517e+03,  5.18425396e+04,  1.21691788e+05,  3.90485395e+03,\n",
       "         4.24095873e+03,  4.54154658e+04,  3.87486015e+04,  4.13043827e+04,\n",
       "         6.48362796e+03,  5.11048220e+04,  1.51445812e+03,  1.65382502e+03,\n",
       "         6.44346748e+04,  4.19248947e+04,  3.34078356e+03,  4.85689183e+03,\n",
       "         4.67007441e+04,  1.53595170e+03,  1.87326791e+03,  4.46920297e+04,\n",
       "         1.83992635e+04,  8.15916921e+03,  8.94423242e+04,  9.33395645e+03,\n",
       "         1.99724914e+04,  2.28106933e+03,  8.16966427e+03,  1.13280592e+03,\n",
       "         1.67051914e+04,  1.20772751e+04,  1.03920257e+04,  8.06320282e+04,\n",
       "         4.57845410e+04,  1.01869802e+03,  4.18703503e+04,  9.40896472e+03,\n",
       "         6.66521149e+02,  1.44319999e+03,  2.46949202e+04,  1.79755557e+04,\n",
       "         8.81667163e+03,  2.79755198e+02,  5.16551467e+02,  3.24829302e+04,\n",
       "         1.52690721e+04,  1.65627892e+04,  6.03915923e+04, -1.72922959e+02,\n",
       "        -2.74890926e+02, -1.29445687e+02,  1.45108570e+04,  3.98963175e+04,\n",
       "        -1.87273754e+02,  1.44342511e+04,  6.36168316e+04,  1.23564250e+05,\n",
       "        -2.27751439e+02,  2.71504497e+04,  4.23824985e+04,  2.71066256e+04,\n",
       "         5.61958548e+04,  4.11300980e+04,  1.21658005e+04, -1.09946194e+03,\n",
       "        -8.36188984e+02,  3.87797953e+04, -7.58235925e+02, -1.61938441e+03,\n",
       "         2.81165005e+04, -1.62072120e+03,  8.30001225e+04, -2.29339815e+03,\n",
       "        -2.34560705e+03, -1.37973086e+03,  4.11860376e+04,  7.65151356e+03,\n",
       "         2.08017834e+04, -1.47100930e+03, -2.25624255e+03,  4.49961748e+04,\n",
       "         2.39506956e+04,  2.69553366e+04,  1.67230854e+04,  2.74735252e+04,\n",
       "        -5.40455459e+03, -2.18617604e+03,  3.01224952e+04,  4.16343038e+04,\n",
       "        -3.67167533e+03, -2.23223808e+03, -2.57842934e+03,  2.24252349e+04,\n",
       "        -6.13670679e+03,  6.59641935e+04,  5.30607437e+04, -5.28016570e+03,\n",
       "        -4.88747086e+03,  1.70652390e+04, -3.34914433e+03,  2.54622535e+04,\n",
       "        -3.54831262e+03, -2.92613192e+03,  9.12886494e+03, -3.95746868e+03,\n",
       "         2.46987467e+04,  1.10991682e+04,  1.89595694e+04,  3.36453939e+04,\n",
       "        -3.46585825e+03,  7.63385175e+04, -5.59008563e+03, -4.03980148e+03,\n",
       "        -4.08886339e+03, -6.50418802e+03,  1.07441746e+05, -3.82273520e+03,\n",
       "         1.33970098e+04, -3.13699972e+03, -5.84702249e+03,  2.58631000e+04,\n",
       "        -3.01719710e+03, -7.23840652e+03,  3.17779105e+04, -5.73893383e+03,\n",
       "        -5.57709313e+03, -4.95991977e+03, -5.86268477e+03, -4.17024828e+03,\n",
       "        -5.53952196e+03, -9.51597692e+03, -1.04610041e+04, -7.91310571e+03,\n",
       "        -5.11362089e+03,  1.46319196e+04, -5.67958868e+03,  5.07086602e+04,\n",
       "         1.23616895e+04,  3.07521384e+04, -6.80750383e+03,  2.65467766e+04,\n",
       "         1.89402557e+04, -6.56675403e+03, -8.61654968e+03,  5.01427445e+04,\n",
       "         2.62418020e+04, -7.77654342e+03,  2.04543735e+04, -8.37740974e+03,\n",
       "        -8.99677604e+03,  1.39501649e+04,  9.07467683e+04, -1.11771363e+04,\n",
       "        -7.99646031e+03, -1.25491406e+04,  4.82317492e+04, -9.12359228e+03,\n",
       "         3.74170696e+04, -1.24504214e+04, -1.02274809e+04, -1.20193652e+04,\n",
       "         4.05363898e+04,  2.07679065e+04,  3.18296207e+04, -1.06220740e+04,\n",
       "        -1.17009491e+04,  2.32000838e+04, -1.50981529e+04]))"
      ]
     },
     "execution_count": 73,
     "metadata": {},
     "output_type": "execute_result"
    }
   ],
   "source": [
    "x,y"
   ]
  },
  {
   "cell_type": "code",
   "execution_count": 74,
   "metadata": {},
   "outputs": [],
   "source": [
    "x = x.reshape(299,1)"
   ]
  },
  {
   "cell_type": "code",
   "execution_count": 61,
   "metadata": {},
   "outputs": [
    {
     "data": {
      "text/plain": [
       "(array([ 9215,  3007,  4584,  1390,   415,   844,  4440,  2152,   264,\n",
       "         3546,   444,   784,   438,  1238,   432,  2296,  1244,  4836,\n",
       "         2053,  3471,   135,   417,   488,  2245,   608,  8093,  1693,\n",
       "          842,  1401,  1622,  2114,   135,   996,  1066,   186,  2443,\n",
       "          143,  1119,  2120,   359,  1961,  2546,  1326,  1335,  1128,\n",
       "        32040,   820,  7225,  1434, 11405,   729,  3208,  1084,   817,\n",
       "         1357,  2386,   200,   948,  3371,  2173,  6061,  4837,   924,\n",
       "         2999,   126,   899,   724,  3017,  1219,   833,  1006,  2281,\n",
       "          402, 10458,   708,  1806,   332,  3001,  4151,  1165,   592,\n",
       "          166,  1705,   109,  1440,   313,  1202,  1090,   259,  1111,\n",
       "         2963,   517,  1141,  2149,  2113,  5795,  3157,  1223,   214,\n",
       "         3518,  5579,   895,   811,  4342,   534,   609,  2761,  1277,\n",
       "         4697,   717,  6318,  1190,  1103,   926,  2358,   516,  1246,\n",
       "         1963,  1554,   999,  9987,  2298,   700,  4659,  2159,  1545,\n",
       "         3919,  3826,   452,  1373,  1469,   496,  1555,  1362,  5619,\n",
       "          807,  2189,  4102,  2704,  1208,   636,  1302,  1091,  1529,\n",
       "         2156,  3717,  1252,   900,  1445,  2201,   532,   875,  2137,\n",
       "          877,  8041,   277,  3147,  1934,  1383,   709,   508,  2767,\n",
       "          674,  4160,  4796,  1965,  1686,  2367,  1678,   605,   438,\n",
       "          432,  1176,  1925,  1089,  1790,  2231,   516,  3161,  1123,\n",
       "          395,  1230,  1477,  1615,   560,   180,  5316,  9790,  1848,\n",
       "           14,  1601,   796,  1770,   493,  1076,  1579,   964,  5701,\n",
       "          419,  1635,  4138,   798,   414,  1232,   927,  1329,   195,\n",
       "         2926,   761,  2067,   590,   154,  2399,  2200,  2264,   533,\n",
       "         1321,   151,  1017,  1586,   836,  1071,   558,  2943,   655,\n",
       "         1195,  6307,   837,  1402,  1246,   689,   401,   766,   728,\n",
       "          957,   923,   577,  3317,  2512,   919,   836,  1061,   702,\n",
       "          839,  1056,   916,  7050,  1044,   483,  1330,   531,   437,\n",
       "          651,   984,   644,  1014,   123,   598,  1122,  1108,   266,\n",
       "          689,   151,   520,   959,  1581,  1051,  1850,  2422,  2389,\n",
       "          443,  3157,   560,   751,  1087,  4385,   154,   427,   832,\n",
       "          671,   870,  1766,  9061,   477,  1059,    32,  4084,   326,\n",
       "         1091,   665,   576,   599,  4262,   489,   679,   328,   775,\n",
       "         1575,   126]),\n",
       " array([ 1.31589732e+05,  1.14928756e+04,  1.93019312e+04,  6.60080482e+04,\n",
       "         4.93513405e+03,  1.88106590e+04,  6.13650861e+04,  2.33218135e+04,\n",
       "         3.88093497e+04,  9.11987076e+04,  1.16870149e+04,  5.67459914e+03,\n",
       "         2.46018985e+04,  1.04787224e+04,  8.24671603e+03,  4.61843915e+04,\n",
       "         2.33481041e+04,  7.27408233e+04,  6.87794360e+04,  3.07097810e+04,\n",
       "         7.63450078e+03,  3.39442012e+04,  8.40395522e+04,  9.68307680e+04,\n",
       "         2.19909403e+04,  1.48309586e+05,  3.49339974e+04,  3.24133742e+04,\n",
       "         2.09134096e+04,  3.31558783e+04,  9.11517097e+03,  1.23517015e+04,\n",
       "         1.65153703e+04,  5.49529321e+03,  1.87282922e+04,  7.28187011e+04,\n",
       "         2.36414864e+04,  9.12663745e+03,  7.73644459e+04,  4.30990647e+04,\n",
       "         3.74968732e+04,  5.08506176e+04,  8.33951153e+04,  3.09162386e+04,\n",
       "         5.34063648e+03,  3.15174568e+05,  1.62685560e+04,  8.23063180e+04,\n",
       "         5.35912463e+03,  1.86236825e+05,  2.17786947e+04,  1.09606629e+05,\n",
       "         6.31363351e+04,  3.58812152e+04,  2.50576250e+04,  2.15490723e+04,\n",
       "         4.25775632e+03,  5.74071245e+04,  4.43955542e+04,  1.13145671e+04,\n",
       "         6.46765157e+04,  6.61272845e+04,  4.29065853e+03,  1.00074074e+04,\n",
       "         9.85884934e+03,  2.74201237e+04,  1.36666360e+04,  3.83124057e+04,\n",
       "         3.55252955e+04,  5.93756310e+04,  2.31786448e+04,  1.87927108e+04,\n",
       "         1.55178840e+04,  1.10472357e+05,  2.58122482e+04,  5.25342963e+03,\n",
       "         8.64281937e+03,  9.93974490e+04,  3.02421239e+04,  4.19879565e+04,\n",
       "         1.03136941e+04,  5.09482010e+03,  5.30796976e+04,  3.33747443e+04,\n",
       "         4.08969476e+04,  2.36022261e+03,  1.37794645e+04,  1.45925492e+04,\n",
       "         5.22561079e+04,  5.77620169e+04,  8.50631206e+04,  2.55278799e+04,\n",
       "         8.38773011e+04,  5.29244765e+04,  1.93304033e+04,  6.84987239e+04,\n",
       "         2.26776537e+04,  8.64440308e+04,  4.28954031e+04,  2.85846658e+04,\n",
       "         1.98281966e+05,  1.07301203e+04,  6.44712201e+03,  6.35792469e+04,\n",
       "         6.34796779e+03,  3.10105633e+03,  1.23365138e+04,  3.60326391e+03,\n",
       "         4.84642288e+04,  4.74431550e+03,  1.04173324e+05,  2.25852550e+04,\n",
       "         9.28990108e+03,  3.99618791e+04,  6.22554347e+04,  2.09468299e+04,\n",
       "         1.88430147e+03,  7.48655102e+04,  2.67813074e+04,  8.62397267e+03,\n",
       "         1.10390050e+05,  4.08196531e+03,  2.89397609e+04,  1.30957485e+05,\n",
       "         1.61748013e+04,  4.79813723e+04,  5.93904914e+04,  7.38285191e+04,\n",
       "         1.62909622e+03,  4.43705079e+03,  5.60808682e+04,  2.14074028e+04,\n",
       "         1.18115517e+03,  5.18425396e+04,  1.21691788e+05,  3.90485395e+03,\n",
       "         4.24095873e+03,  4.54154658e+04,  3.87486015e+04,  4.13043827e+04,\n",
       "         6.48362796e+03,  5.11048220e+04,  1.51445812e+03,  1.65382502e+03,\n",
       "         6.44346748e+04,  4.19248947e+04,  3.34078356e+03,  4.85689183e+03,\n",
       "         4.67007441e+04,  1.53595170e+03,  1.87326791e+03,  4.46920297e+04,\n",
       "         1.83992635e+04,  8.15916921e+03,  8.94423242e+04,  9.33395645e+03,\n",
       "         1.99724914e+04,  2.28106933e+03,  8.16966427e+03,  1.13280592e+03,\n",
       "         1.67051914e+04,  1.20772751e+04,  1.03920257e+04,  8.06320282e+04,\n",
       "         4.57845410e+04,  1.01869802e+03,  4.18703503e+04,  9.40896472e+03,\n",
       "         6.66521149e+02,  1.44319999e+03,  2.46949202e+04,  1.79755557e+04,\n",
       "         8.81667163e+03,  2.79755198e+02,  5.16551467e+02,  3.24829302e+04,\n",
       "         1.52690721e+04,  1.65627892e+04,  6.03915923e+04, -1.72922959e+02,\n",
       "        -2.74890926e+02, -1.29445687e+02,  1.45108570e+04,  3.98963175e+04,\n",
       "        -1.87273754e+02,  1.44342511e+04,  6.36168316e+04,  1.23564250e+05,\n",
       "        -2.27751439e+02,  2.71504497e+04,  4.23824985e+04,  2.71066256e+04,\n",
       "         5.61958548e+04,  4.11300980e+04,  1.21658005e+04, -1.09946194e+03,\n",
       "        -8.36188984e+02,  3.87797953e+04, -7.58235925e+02, -1.61938441e+03,\n",
       "         2.81165005e+04, -1.62072120e+03,  8.30001225e+04, -2.29339815e+03,\n",
       "        -2.34560705e+03, -1.37973086e+03,  4.11860376e+04,  7.65151356e+03,\n",
       "         2.08017834e+04, -1.47100930e+03, -2.25624255e+03,  4.49961748e+04,\n",
       "         2.39506956e+04,  2.69553366e+04,  1.67230854e+04,  2.74735252e+04,\n",
       "        -5.40455459e+03, -2.18617604e+03,  3.01224952e+04,  4.16343038e+04,\n",
       "        -3.67167533e+03, -2.23223808e+03, -2.57842934e+03,  2.24252349e+04,\n",
       "        -6.13670679e+03,  6.59641935e+04,  5.30607437e+04, -5.28016570e+03,\n",
       "        -4.88747086e+03,  1.70652390e+04, -3.34914433e+03,  2.54622535e+04,\n",
       "        -3.54831262e+03, -2.92613192e+03,  9.12886494e+03, -3.95746868e+03,\n",
       "         2.46987467e+04,  1.10991682e+04,  1.89595694e+04,  3.36453939e+04,\n",
       "        -3.46585825e+03,  7.63385175e+04, -5.59008563e+03, -4.03980148e+03,\n",
       "        -4.08886339e+03, -6.50418802e+03,  1.07441746e+05, -3.82273520e+03,\n",
       "         1.33970098e+04, -3.13699972e+03, -5.84702249e+03,  2.58631000e+04,\n",
       "        -3.01719710e+03, -7.23840652e+03,  3.17779105e+04, -5.73893383e+03,\n",
       "        -5.57709313e+03, -4.95991977e+03, -5.86268477e+03, -4.17024828e+03,\n",
       "        -5.53952196e+03, -9.51597692e+03, -1.04610041e+04, -7.91310571e+03,\n",
       "        -5.11362089e+03,  1.46319196e+04, -5.67958868e+03,  5.07086602e+04,\n",
       "         1.23616895e+04,  3.07521384e+04, -6.80750383e+03,  2.65467766e+04,\n",
       "         1.89402557e+04, -6.56675403e+03, -8.61654968e+03,  5.01427445e+04,\n",
       "         2.62418020e+04, -7.77654342e+03,  2.04543735e+04, -8.37740974e+03,\n",
       "        -8.99677604e+03,  1.39501649e+04,  9.07467683e+04, -1.11771363e+04,\n",
       "        -7.99646031e+03, -1.25491406e+04,  4.82317492e+04, -9.12359228e+03,\n",
       "         3.74170696e+04, -1.24504214e+04, -1.02274809e+04, -1.20193652e+04,\n",
       "         4.05363898e+04,  2.07679065e+04,  3.18296207e+04, -1.06220740e+04,\n",
       "        -1.17009491e+04,  2.32000838e+04, -1.50981529e+04]))"
      ]
     },
     "execution_count": 61,
     "metadata": {},
     "output_type": "execute_result"
    }
   ],
   "source": [
    "x,y"
   ]
  },
  {
   "cell_type": "code",
   "execution_count": 76,
   "metadata": {},
   "outputs": [],
   "source": [
    "from sklearn.model_selection import train_test_split\n",
    "x_train, x_test, y_train, y_test = train_test_split(x, y, test_size = 1/3)"
   ]
  },
  {
   "cell_type": "code",
   "execution_count": 77,
   "metadata": {},
   "outputs": [],
   "source": [
    "from sklearn.linear_model import LinearRegression\n",
    "lr = LinearRegression()"
   ]
  },
  {
   "cell_type": "code",
   "execution_count": 78,
   "metadata": {
    "scrolled": true
   },
   "outputs": [
    {
     "data": {
      "text/plain": [
       "LinearRegression(copy_X=True, fit_intercept=True, n_jobs=None, normalize=False)"
      ]
     },
     "execution_count": 78,
     "metadata": {},
     "output_type": "execute_result"
    }
   ],
   "source": [
    "lr.fit(x_train, y_train)"
   ]
  },
  {
   "cell_type": "code",
   "execution_count": 79,
   "metadata": {
    "scrolled": true
   },
   "outputs": [],
   "source": [
    "y_pred = lr.predict(x_test)"
   ]
  },
  {
   "cell_type": "code",
   "execution_count": 80,
   "metadata": {},
   "outputs": [
    {
     "data": {
      "image/png": "[encoded data removed]",
      "text/plain": [
       "<Figure size 432x288 with 1 Axes>"
      ]
     },
     "metadata": {
      "needs_background": "light"
     },
     "output_type": "display_data"
    }
   ],
   "source": [
    "plt.scatter(x_train, y_train, color = \"red\")\n",
    "plt.plot(x_train, lr.predict(x_train), color = \"green\")\n",
    "plt.title(\"Salary vs Experience (Training set)\")\n",
    "plt.xlabel(\"Years of Experience\")\n",
    "plt.ylabel(\"Salary\")\n",
    "plt.show()"
   ]
  },
  {
   "cell_type": "code",
   "execution_count": null,
   "metadata": {},
   "outputs": [],
   "source": []
  },
  {
   "cell_type": "code",
   "execution_count": null,
   "metadata": {},
   "outputs": [],
   "source": []
  }
 ],
 "metadata": {
  "kernelspec": {
   "display_name": "dviz",
   "language": "python",
   "name": "dviz"
  },
  "language_info": {
   "codemirror_mode": {
    "name": "ipython",
    "version": 3
   },
   "file_extension": ".py",
   "mimetype": "text/x-python",
   "name": "python",
   "nbconvert_exporter": "python",
   "pygments_lexer": "ipython3",
   "version": "3.7.4"
  }
 },
 "nbformat": 4,
 "nbformat_minor": 2
}
