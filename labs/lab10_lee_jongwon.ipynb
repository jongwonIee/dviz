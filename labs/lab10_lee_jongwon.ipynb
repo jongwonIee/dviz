{
 "cells": [
  {
   "cell_type": "markdown",
   "metadata": {},
   "source": [
    "# Module 10: Logscale"
   ]
  },
  {
   "cell_type": "code",
   "execution_count": 1,
   "metadata": {},
   "outputs": [],
   "source": [
    "import matplotlib.pyplot as plt\n",
    "import pandas as pd\n",
    "import seaborn as sns\n",
    "import numpy as np\n",
    "import scipy.stats as ss\n",
    "import vega_datasets\n",
    "import math\n",
    "%matplotlib inline"
   ]
  },
  {
   "cell_type": "markdown",
   "metadata": {},
   "source": [
    "## Ratio and logarithm\n",
    "\n",
    "If you use linear scale to visualize ratios, it can be quite misleading.\n",
    "\n",
    "Let's first create some ratios."
   ]
  },
  {
   "cell_type": "code",
   "execution_count": 2,
   "metadata": {},
   "outputs": [
    {
     "name": "stdout",
     "output_type": "stream",
     "text": [
      "[1.e-03 1.e-02 1.e-01 1.e+00 1.e+01 1.e+02 1.e+03]\n"
     ]
    }
   ],
   "source": [
    "x = np.array([1,    1,   1,  1, 10, 100, 1000])\n",
    "y = np.array([1000, 100, 10, 1, 1,  1,   1   ])\n",
    "ratio = x/y\n",
    "print(ratio)"
   ]
  },
  {
   "cell_type": "markdown",
   "metadata": {},
   "source": [
    "**Q: Plot on the linear scale using the [`scatter()`](http://matplotlib.org/examples/shapes_and_collections/scatter_demo.html) function. Also draw a horizontal line at ratio=1 for a reference. **"
   ]
  },
  {
   "cell_type": "code",
   "execution_count": 3,
   "metadata": {},
   "outputs": [
    {
     "data": {
      "text/plain": [
       "Text(0, 0.5, 'Ratio')"
      ]
     },
     "execution_count": 3,
     "metadata": {},
     "output_type": "execute_result"
    },
    {
     "data": {
      "image/png": "[encoded data removed]",
      "text/plain": [
       "<Figure size 432x288 with 1 Axes>"
      ]
     },
     "metadata": {
      "needs_background": "light"
     },
     "output_type": "display_data"
    }
   ],
   "source": [
    "rang_len = range(len(ratio))\n",
    "plt.scatter(rang_len,ratio)\n",
    "plt.plot(range(8), [0,0,0,0,0,0,0,0], ls=':', color='black')\n",
    "plt.xlabel('Data ID')\n",
    "plt.ylabel('Ratio')"
   ]
  },
  {
   "cell_type": "markdown",
   "metadata": {},
   "source": [
    "**Q: Explain what's bad about this plot.**"
   ]
  },
  {
   "cell_type": "code",
   "execution_count": 4,
   "metadata": {},
   "outputs": [
    {
     "data": {
      "text/plain": [
       "'for Ratio axis, if x<y, it plots only using Ratio<1, otherwise Ratio>1, thus it is unfair for x<y and y>x situation.'"
      ]
     },
     "execution_count": 4,
     "metadata": {},
     "output_type": "execute_result"
    }
   ],
   "source": [
    "'''for Ratio axis, if x<y, it plots only using Ratio<1, otherwise Ratio>1, thus it is unfair for x<y and y>x situation.'''"
   ]
  },
  {
   "cell_type": "markdown",
   "metadata": {},
   "source": [
    "**Q: Can you fix it? **"
   ]
  },
  {
   "cell_type": "code",
   "execution_count": 5,
   "metadata": {},
   "outputs": [
    {
     "name": "stdout",
     "output_type": "stream",
     "text": [
      "[1.e-03 1.e-02 1.e-01 1.e+00 1.e+01 1.e+02 1.e+03]\n"
     ]
    }
   ],
   "source": [
    "# Implement\n",
    "\n",
    "x = np.array([1,    1,   1,  1, 10, 100, 1000])\n",
    "y = np.array([1000, 100, 10, 1, 1,  1,   1   ])\n",
    "ratio = x/y.tolist()\n",
    "\n",
    "print(ratio)"
   ]
  },
  {
   "cell_type": "code",
   "execution_count": 6,
   "metadata": {},
   "outputs": [
    {
     "name": "stdout",
     "output_type": "stream",
     "text": [
      "[-6.907755278982137, -4.605170185988091, -2.3025850929940455, 0.0, 2.302585092994046, 4.605170185988092, 6.907755278982137]\n"
     ]
    },
    {
     "data": {
      "text/plain": [
       "Text(0, 0.5, 'Log Ratio')"
      ]
     },
     "execution_count": 6,
     "metadata": {},
     "output_type": "execute_result"
    },
    {
     "data": {
      "image/png": "[encoded data removed]",
      "text/plain": [
       "<Figure size 432x288 with 1 Axes>"
      ]
     },
     "metadata": {
      "needs_background": "light"
     },
     "output_type": "display_data"
    }
   ],
   "source": [
    "log_ratio = [math.log(a) for a in ratio]\n",
    "print(log_ratio)\n",
    "\n",
    "rang_len = range(len(log_ratio))\n",
    "plt.scatter(rang_len, log_ratio)\n",
    "plt.plot(range(8), [0,0,0,0,0,0,0,0], ls=':', color='black')\n",
    "plt.xlabel('Data ID')\n",
    "plt.ylabel('Log Ratio')"
   ]
  },
  {
   "cell_type": "markdown",
   "metadata": {},
   "source": [
    "## Log-binning\n",
    "\n",
    "Let's first see what happens if we do not use the log scale for a dataset with a heavy tail. \n",
    "\n",
    "**Q: Load the movie dataset from `vega_datasets` and remove the NaN rows based on the following three columns: `IMDB_Rating`, `IMDB_Votes`, `Rotten_Tomatoes_Rating`. **"
   ]
  },
  {
   "cell_type": "code",
   "execution_count": 7,
   "metadata": {},
   "outputs": [
    {
     "data": {
      "text/plain": [
       "2260"
      ]
     },
     "execution_count": 7,
     "metadata": {},
     "output_type": "execute_result"
    }
   ],
   "source": [
    "# TODO\n",
    "movies = vega_datasets.data.movies()\n",
    "movies = movies.dropna(subset=['IMDB_Rating', 'IMDB_Votes', 'Rotten_Tomatoes_Rating'])\n",
    "len(movies)"
   ]
  },
  {
   "cell_type": "code",
   "execution_count": 8,
   "metadata": {},
   "outputs": [
    {
     "data": {
      "text/plain": [
       "pandas.core.frame.DataFrame"
      ]
     },
     "execution_count": 8,
     "metadata": {},
     "output_type": "execute_result"
    }
   ],
   "source": [
    "type(movies)"
   ]
  },
  {
   "cell_type": "markdown",
   "metadata": {},
   "source": [
    "If you simply call `hist()` method with a dataframe object, it identifies all the numeric columns and draw a histogram for each. \n",
    "\n",
    "**Q: draw all possible histograms of the movie dataframe. Adjust the size of the plots if needed. **"
   ]
  },
  {
   "cell_type": "code",
   "execution_count": 9,
   "metadata": {},
   "outputs": [
    {
     "data": {
      "image/png": "[encoded data removed]",
      "text/plain": [
       "<Figure size 1440x720 with 9 Axes>"
      ]
     },
     "metadata": {
      "needs_background": "light"
     },
     "output_type": "display_data"
    }
   ],
   "source": [
    "ax = movies.hist(figsize=(20, 10))"
   ]
  },
  {
   "cell_type": "markdown",
   "metadata": {},
   "source": [
    "As we can see, a majority of the columns are not normally distributed. In particular, if you look at the worldwide gross variable, you only see a couple of meaningful data from the histogram. Is this a problem of resolution? How about increasing the number of bins?\n",
    "\n",
    "**Q: Play with the number of bins, and then increase the number of bins to 200. **"
   ]
  },
  {
   "cell_type": "code",
   "execution_count": 10,
   "metadata": {},
   "outputs": [
    {
     "data": {
      "image/png": "[encoded data removed]",
      "text/plain": [
       "<Figure size 432x288 with 1 Axes>"
      ]
     },
     "metadata": {
      "needs_background": "light"
     },
     "output_type": "display_data"
    }
   ],
   "source": [
    "ax = movies.Worldwide_Gross.hist(bins=200)\n",
    "ax.set_xlabel(\"World wide growth\")\n",
    "ax.set_ylabel(\"Frequency\")\n",
    "plt.show()"
   ]
  },
  {
   "cell_type": "markdown",
   "metadata": {},
   "source": [
    "Maybe a bit more useful, but it doesn't tell anything about the data distribution above certain point. \n",
    "\n",
    "**Q: How about changing the vertical scale to logarithmic scale?**"
   ]
  },
  {
   "cell_type": "code",
   "execution_count": 11,
   "metadata": {},
   "outputs": [
    {
     "data": {
      "image/png": "[encoded data removed]",
      "text/plain": [
       "<Figure size 432x288 with 1 Axes>"
      ]
     },
     "metadata": {
      "needs_background": "light"
     },
     "output_type": "display_data"
    }
   ],
   "source": [
    "# Implement\n",
    "ax = movies.Worldwide_Gross.hist(log=True, bins=200)\n",
    "ax.set_xlabel(\"World wide growth\")\n",
    "ax.set_ylabel(\"Frequency\")\n",
    "plt.show()"
   ]
  },
  {
   "cell_type": "markdown",
   "metadata": {},
   "source": [
    "Now, let's try log-bin. Recall that when plotting histgrams we can specify the edges of bins through the `bins` parameter. For example, we can specify the edges of bins to [1, 2, 3, ... , 10] as follows.\n"
   ]
  },
  {
   "cell_type": "code",
   "execution_count": 12,
   "metadata": {},
   "outputs": [
    {
     "data": {
      "text/plain": [
       "<matplotlib.axes._subplots.AxesSubplot at 0x1a18821050>"
      ]
     },
     "execution_count": 12,
     "metadata": {},
     "output_type": "execute_result"
    },
    {
     "data": {
      "image/png": "[encoded data removed]",
      "text/plain": [
       "<Figure size 432x288 with 1 Axes>"
      ]
     },
     "metadata": {
      "needs_background": "light"
     },
     "output_type": "display_data"
    }
   ],
   "source": [
    "movies.IMDB_Rating.hist(bins=range(0,11))"
   ]
  },
  {
   "cell_type": "markdown",
   "metadata": {},
   "source": [
    "Here, we can specify the edges of bins in a similar way. Instead of specifying on the linear scale, we do it on the log space. Some useful resources:\n",
    "\n",
    "* [Google query: python log-bin](https://www.google.com/webhp?sourceid=chrome-instant&ion=1&espv=2&ie=UTF-8#q=python+log-bin&pws=0)\n",
    "* [numpy.logspace](http://docs.scipy.org/doc/numpy/reference/generated/numpy.logspace.html)\n",
    "* [numpy.linspace vs numpy.logspace](http://stackoverflow.com/questions/31480033/difference-in-output-between-numpy-linspace-and-numpy-logspace)\n",
    "\n",
    "Hint: since $10^{\\text{start}} = \\text{min(Worldwide_Gross)}$, $\\text{start} = \\log_{10}(\\text{min(Worldwide_Gross)})$"
   ]
  },
  {
   "cell_type": "code",
   "execution_count": 13,
   "metadata": {},
   "outputs": [
    {
     "data": {
      "text/plain": [
       "0.0"
      ]
     },
     "execution_count": 13,
     "metadata": {},
     "output_type": "execute_result"
    }
   ],
   "source": [
    "min(movies.Worldwide_Gross)"
   ]
  },
  {
   "cell_type": "markdown",
   "metadata": {},
   "source": [
    "Because there seems to be movie(s) that made $0, and because log(0) is undefined & log(1) = 0, let's add 1 to the variable.  "
   ]
  },
  {
   "cell_type": "code",
   "execution_count": 14,
   "metadata": {},
   "outputs": [],
   "source": [
    "movies.Worldwide_Gross = movies.Worldwide_Gross+1.0"
   ]
  },
  {
   "cell_type": "code",
   "execution_count": 15,
   "metadata": {
    "scrolled": true
   },
   "outputs": [
    {
     "data": {
      "text/plain": [
       "4         1087522.0\n",
       "8         6341826.0\n",
       "9        20400001.0\n",
       "10       37600001.0\n",
       "11       37402878.0\n",
       "           ...     \n",
       "3195     98690287.0\n",
       "3196     36851126.0\n",
       "3198     12506189.0\n",
       "3199    141475337.0\n",
       "3200    233700001.0\n",
       "Name: Worldwide_Gross, Length: 2260, dtype: float64"
      ]
     },
     "execution_count": 15,
     "metadata": {},
     "output_type": "execute_result"
    }
   ],
   "source": [
    "movies.Worldwide_Gross"
   ]
  },
  {
   "cell_type": "markdown",
   "metadata": {},
   "source": [
    "**Q: now create logarithmic bins. Create 20 bins from the minimum value to the maximum value.**"
   ]
  },
  {
   "cell_type": "code",
   "execution_count": 16,
   "metadata": {},
   "outputs": [
    {
     "name": "stdout",
     "output_type": "stream",
     "text": [
      "1.0 2767891500.0\n",
      "[1.00000000e+00 3.14018485e+00 9.86076088e+00 3.09646119e+01\n",
      " 9.72346052e+01 3.05334634e+02 9.58807191e+02 3.01083182e+03\n",
      " 9.45456845e+03 2.96890926e+04 9.32292387e+04 2.92757043e+05\n",
      " 9.19311230e+05 2.88680720e+06 9.06510822e+06 2.84661155e+07\n",
      " 8.93888645e+07 2.80697558e+08 8.81442219e+08 2.76789150e+09]\n"
     ]
    }
   ],
   "source": [
    "start = min(movies.Worldwide_Gross)\n",
    "end = max(movies.Worldwide_Gross)\n",
    "print(start, end)\n",
    "bins = np.logspace(np.log10(start), np.log10(end), 20)\n",
    "print(bins)"
   ]
  },
  {
   "cell_type": "markdown",
   "metadata": {},
   "source": [
    "Now we can plot a histgram with log-bin. Set both axis to be log-scale. "
   ]
  },
  {
   "cell_type": "code",
   "execution_count": 17,
   "metadata": {},
   "outputs": [
    {
     "data": {
      "image/png": "[encoded data removed]",
      "text/plain": [
       "<Figure size 432x288 with 1 Axes>"
      ]
     },
     "metadata": {
      "needs_background": "light"
     },
     "output_type": "display_data"
    }
   ],
   "source": [
    "ax = movies.Worldwide_Gross.hist(log=True, bins=bins)\n",
    "plt.gca().set_xscale(\"log\")\n",
    "ax.set_xlabel(\"World wide growth\")\n",
    "ax.set_ylabel(\"Frequency\")\n",
    "plt.show()"
   ]
  },
  {
   "cell_type": "markdown",
   "metadata": {},
   "source": [
    "What is going on? Is this the right plot?\n",
    "\n",
    "**Q: explain and fix**"
   ]
  },
  {
   "cell_type": "code",
   "execution_count": 18,
   "metadata": {},
   "outputs": [
    {
     "data": {
      "image/png": "[encoded data removed]",
      "text/plain": [
       "<Figure size 432x288 with 1 Axes>"
      ]
     },
     "metadata": {
      "needs_background": "light"
     },
     "output_type": "display_data"
    }
   ],
   "source": [
    "ax = movies.Worldwide_Gross.hist(log=True, bins=bins, cumulative=True)\n",
    "plt.gca().set_xscale(\"log\")\n",
    "ax.set_xlabel(\"World wide growth\")\n",
    "ax.set_ylabel(\"Frequency\")\n",
    "plt.show()"
   ]
  },
  {
   "cell_type": "markdown",
   "metadata": {},
   "source": [
    "**Q: Can you explain the plot? Why are there gaps?**"
   ]
  },
  {
   "cell_type": "code",
   "execution_count": 19,
   "metadata": {},
   "outputs": [
    {
     "data": {
      "text/plain": [
       "'It was not cumulative, now there are no gap.'"
      ]
     },
     "execution_count": 19,
     "metadata": {},
     "output_type": "execute_result"
    }
   ],
   "source": [
    "'''It was not cumulative, now there are no gap.'''"
   ]
  },
  {
   "cell_type": "markdown",
   "metadata": {},
   "source": [
    "## CCDF\n",
    "\n",
    "CCDF is a nice alternative to examine distributions with heavy tails. The idea is same as CDF, but the direction of aggregation is opposite. We have done CDF before. It's just a small change to that code. \n",
    "\n",
    "**Q: Draw a CCDF in log-log scale**"
   ]
  },
  {
   "cell_type": "code",
   "execution_count": 20,
   "metadata": {},
   "outputs": [],
   "source": [
    "bins = np.logspace(np.log10(start), np.log10(end), 1000)"
   ]
  },
  {
   "cell_type": "code",
   "execution_count": 21,
   "metadata": {},
   "outputs": [
    {
     "data": {
      "image/png": "[encoded data removed]",
      "text/plain": [
       "<Figure size 432x288 with 1 Axes>"
      ]
     },
     "metadata": {
      "needs_background": "light"
     },
     "output_type": "display_data"
    }
   ],
   "source": [
    "ax = movies.Worldwide_Gross.hist(log=True, bins=bins, cumulative=-1, histtype=\"step\", density=True)\n",
    "plt.gca().set_xscale(\"log\")\n",
    "ax.set_xlabel(\"World wide growth\")\n",
    "ax.set_ylabel(\"CCDF\")\n",
    "plt.show()"
   ]
  },
  {
   "cell_type": "markdown",
   "metadata": {},
   "source": [
    "We can also try in semilog scale (only one axis is in a log-scale), where the horizontal axis is linear. \n",
    "\n",
    "**Q: Draw a CCDF in semilog scale**"
   ]
  },
  {
   "cell_type": "code",
   "execution_count": 105,
   "metadata": {},
   "outputs": [],
   "source": [
    "data_r = pd.DataFrame(movies.Worldwide_Gross.tolist()[::-1], index = movies.index, columns = ['Worldwide_Gross'])"
   ]
  },
  {
   "cell_type": "code",
   "execution_count": 111,
   "metadata": {},
   "outputs": [],
   "source": [
    "y = [20, 250, 100000]"
   ]
  },
  {
   "cell_type": "code",
   "execution_count": 115,
   "metadata": {},
   "outputs": [
    {
     "data": {
      "image/png": "[encoded data removed]",
      "text/plain": [
       "<Figure size 432x288 with 1 Axes>"
      ]
     },
     "metadata": {
      "needs_background": "light"
     },
     "output_type": "display_data"
    }
   ],
   "source": [
    "ax = movies.Worldwide_Gross.hist(log=True, bins=bins, cumulative=-1, histtype=\"step\", density=True)\n",
    "plt.gca().set_yscale(\"log\")\n",
    "ax.set_xlabel(\"World wide growth\")\n",
    "ax.set_ylabel(\"CCDF\")\n",
    "plt.show()"
   ]
  },
  {
   "cell_type": "markdown",
   "metadata": {},
   "source": [
    "A straight line in semilog scale means exponential decay (cf. a straight line in log-log scale means power-law decay). So it seems like the amount of money a movie makes across the world follows *roughly* an exponential distribution, while there are some outliers that make insane amount of money. \n",
    "\n",
    "**Q: Which is the most successful movie in our dataset?**\n",
    "\n",
    "You can use the following\n",
    "\n",
    "- `idxmax()`: https://pandas.pydata.org/pandas-docs/stable/generated/pandas.DataFrame.idxmax.html\n",
    "- `loc`: https://pandas.pydata.org/pandas-docs/stable/generated/pandas.DataFrame.loc.html or `iloc`: https://pandas.pydata.org/pandas-docs/stable/generated/pandas.DataFrame.iloc.html \n",
    "\n",
    "Which one should you use, `loc` or `iloc`? How are they different from each other?"
   ]
  },
  {
   "cell_type": "code",
   "execution_count": 127,
   "metadata": {},
   "outputs": [
    {
     "data": {
      "text/plain": [
       "Title                                  Avatar\n",
       "US_Gross                          7.60168e+08\n",
       "Worldwide_Gross                   2.76789e+09\n",
       "US_DVD_Sales                      1.46154e+08\n",
       "Production_Budget                    2.37e+08\n",
       "Release_Date                      Dec 18 2009\n",
       "MPAA_Rating                             PG-13\n",
       "Running_Time_min                          NaN\n",
       "Distributor                  20th Century Fox\n",
       "Source                    Original Screenplay\n",
       "Major_Genre                            Action\n",
       "Creative_Type                 Science Fiction\n",
       "Director                        James Cameron\n",
       "Rotten_Tomatoes_Rating                     83\n",
       "IMDB_Rating                               8.3\n",
       "IMDB_Votes                             261439\n",
       "Name: 1234, dtype: object"
      ]
     },
     "execution_count": 127,
     "metadata": {},
     "output_type": "execute_result"
    }
   ],
   "source": [
    "# Implement\n",
    "movies.loc[movies.Worldwide_Gross.idxmax()]"
   ]
  },
  {
   "cell_type": "code",
   "execution_count": 128,
   "metadata": {},
   "outputs": [
    {
     "data": {
      "text/plain": [
       "Title                             Georgia Rule\n",
       "US_Gross                           1.88829e+07\n",
       "Worldwide_Gross                    2.08196e+07\n",
       "US_DVD_Sales                       1.93823e+07\n",
       "Production_Budget                        2e+07\n",
       "Release_Date                       May 11 2007\n",
       "MPAA_Rating                                  R\n",
       "Running_Time_min                           111\n",
       "Distributor                          Universal\n",
       "Source                     Original Screenplay\n",
       "Major_Genre                              Drama\n",
       "Creative_Type             Contemporary Fiction\n",
       "Director                        Garry Marshall\n",
       "Rotten_Tomatoes_Rating                      17\n",
       "IMDB_Rating                                5.8\n",
       "IMDB_Votes                               10902\n",
       "Name: 1808, dtype: object"
      ]
     },
     "execution_count": 128,
     "metadata": {},
     "output_type": "execute_result"
    }
   ],
   "source": [
    "# Implement\n",
    "movies.iloc[movies.Worldwide_Gross.idxmax()]"
   ]
  },
  {
   "cell_type": "code",
   "execution_count": 131,
   "metadata": {},
   "outputs": [
    {
     "data": {
      "text/plain": [
       "'loc, because idmax returns the actual index(loc) of the maximum value data not its integer position(iloc)'"
      ]
     },
     "execution_count": 131,
     "metadata": {},
     "output_type": "execute_result"
    }
   ],
   "source": [
    "'''loc, because idmax returns the actual index(loc) of the maximum value data not its integer position(iloc)'''"
   ]
  }
 ],
 "metadata": {
  "anaconda-cloud": {},
  "kernelspec": {
   "display_name": "Python 3",
   "language": "python",
   "name": "python3"
  },
  "language_info": {
   "codemirror_mode": {
    "name": "ipython",
    "version": 3
   },
   "file_extension": ".py",
   "mimetype": "text/x-python",
   "name": "python",
   "nbconvert_exporter": "python",
   "pygments_lexer": "ipython3",
   "version": "3.7.4"
  }
 },
 "nbformat": 4,
 "nbformat_minor": 2
}
